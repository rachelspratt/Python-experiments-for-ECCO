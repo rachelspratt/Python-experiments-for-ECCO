{
 "cells": [
  {
   "cell_type": "code",
   "execution_count": 73,
   "id": "5e1e8e4b-7765-44e5-846f-3c0ef04bbaa1",
   "metadata": {},
   "outputs": [],
   "source": [
    "from scipy.io import netcdf\n",
    "import numpy as np"
   ]
  },
  {
   "cell_type": "code",
   "execution_count": 74,
   "id": "fa2f7524-37e0-4140-bfba-5e0f94d0eb2b",
   "metadata": {},
   "outputs": [],
   "source": [
    "import xarray as xr  #libraries\n",
    "import cartopy.crs as ccrs\n",
    "import cartopy.feature as cfeature\n",
    "import matplotlib.pyplot as plt\n",
    "import matplotlib.lines as mlines\n",
    "import matplotlib.colors as mcolors\n",
    "import os\n",
    "import requests\n",
    "import concurrent.futures\n",
    "%matplotlib inline"
   ]
  },
  {
   "cell_type": "code",
   "execution_count": 75,
   "id": "f4079c62-a0e3-4895-a033-ebbedddad899",
   "metadata": {},
   "outputs": [],
   "source": [
    "import numpy as np\n",
    "import xarray as xr\n",
    "from os.path import join,expanduser\n",
    "import matplotlib.pyplot as plt\n",
    "import ecco_access as ea\n",
    "\n",
    "# identify user's home directory\n",
    "user_home_dir = expanduser('~')"
   ]
  },
  {
   "cell_type": "code",
   "execution_count": 76,
   "id": "d7d5d2d4-6ff1-42cf-bd47-4b0690f24ca4",
   "metadata": {},
   "outputs": [
    {
     "name": "stdout",
     "output_type": "stream",
     "text": [
      "Help on function ecco_podaac_to_xrdataset in module ecco_access.ecco_access:\n",
      "\n",
      "ecco_podaac_to_xrdataset(query, version='v4r4', grid=None, time_res='all', StartDate=None, EndDate=None, snapshot_interval=None, mode='download_ifspace', download_root_dir=None, **kwargs)\n",
      "    This function queries and accesses ECCO datasets from PO.DAAC. The core query and download functions\n",
      "    are adapted from Jupyter notebooks created by Jack McNelis and Ian Fenty\n",
      "    (https://github.com/ECCO-GROUP/ECCO-ACCESS/blob/master/PODAAC/Downloading_ECCO_datasets_from_PODAAC/README.md)\n",
      "    and modified by Andrew Delman (https://ecco-v4-python-tutorial.readthedocs.io).\n",
      "    It is similar to ecco_podaac_access, except instead of a list of URLs or files,\n",
      "    an xarray Dataset with all of the queried ECCO datasets is returned.\n",
      "\n",
      "    Parameters\n",
      "    ----------\n",
      "    query: str, list, or dict, defines datasets or variables to access.\n",
      "           If query is str, it specifies either a dataset ShortName (if query\n",
      "           matches a NASA Earthdata ShortName), or a text string that can be\n",
      "           used to search the ECCO ShortNames, variable names, and descriptions.\n",
      "           A query may also be a list of multiple ShortNames and/or text searches,\n",
      "           or a dict that contains grid,time_res specifiers as keys and ShortNames\n",
      "           or text searches as values, e.g.,\n",
      "           {'native,monthly':['ECCO_L4_SSH_LLC0090GRID_MONTHLY_V4R4',\n",
      "                              'THETA']}\n",
      "           will query the native grid monthly SSH datasets, and all native grid\n",
      "           monthly datasets with variables or descriptions matching 'THETA'.\n",
      "\n",
      "    version: ('v4r4'), specifies ECCO version to query\n",
      "\n",
      "    grid: ('native','latlon',None), specifies whether to query datasets with output\n",
      "          on the native grid or the interpolated lat/lon grid.\n",
      "          The default None will query both types of grids, unless specified\n",
      "          otherwise in a query dict (e.g., the example above).\n",
      "\n",
      "    time_res: ('monthly','daily','snapshot','all'), specifies which time resolution\n",
      "              to include in query and downloads. 'all' includes all time resolutions,\n",
      "              and datasets that have no time dimension, such as the grid parameter\n",
      "              and mixing coefficient datasets.\n",
      "\n",
      "\n",
      "    StartDate,EndDate: str, in 'YYYY', 'YYYY-MM', or 'YYYY-MM-DD' format,\n",
      "                       define date range [StartDate,EndDate] for download.\n",
      "                       EndDate is included in the time range (unlike typical Python ranges).\n",
      "                       Full ECCOv4r4 date range (default) is '1992-01-01' to '2017-12-31'.\n",
      "                       For 'SNAPSHOT' datasets, an additional day is added to EndDate to enable\n",
      "                       closed budgets within the specified date range.\n",
      "\n",
      "    snapshot_interval: ('monthly', 'daily', or None), if snapshot datasets are included in ShortNames,\n",
      "                       this determines whether snapshots are included for only the beginning/end\n",
      "                       of each month ('monthly'), or for every day ('daily').\n",
      "                       If None or not specified, defaults to 'daily' if any daily mean ShortNames\n",
      "                       are included and 'monthly' otherwise.\n",
      "\n",
      "    mode: str, one of the following:\n",
      "          'download': Download datasets using NASA Earthdata URLs\n",
      "          'download_ifspace': Check storage availability before downloading.\n",
      "                              Download only if storage footprint of downloads\n",
      "                              <= max_avail_frac*(available storage)\n",
      "          'download_subset': Download spatial and temporal subsets of datasets\n",
      "                             via Opendap; query help(ecco_access.ecco_podaac_download_subset)\n",
      "                             to see keyword arguments that can be used in this mode.\n",
      "          The following modes work within the AWS cloud only:\n",
      "          's3_open': Access datasets on S3 without downloading.\n",
      "          's3_open_fsspec': Use json files (generated with `fsspec` and `kerchunk`)\n",
      "                            for expedited opening of datasets.\n",
      "          's3_get': Download from S3 (to AWS EC2 instance).\n",
      "          's3_get_ifspace': Check storage availability before downloading;\n",
      "                            download if storage footprint\n",
      "                            <= max_avail_frac*(available storage).\n",
      "                            Otherwise data are opened \"remotely\" from S3 bucket.\n",
      "\n",
      "    download_root_dir: str, defines parent directory to download files to.\n",
      "                       Files will be downloaded to directory download_root_dir/ShortName/.\n",
      "                       If not specified, parent directory defaults to '~/Downloads/ECCO_V4r4_PODAAC/'.\n",
      "\n",
      "    Additional keyword arguments*:\n",
      "    *This is not an exhaustive list, especially for\n",
      "    'download_subset' mode; use help(ecco_access.ecco_podaac_download_subset) to display\n",
      "    options specific to that mode\n",
      "\n",
      "    max_avail_frac: float, maximum fraction of remaining available disk space to\n",
      "                    use in storing ECCO datasets.\n",
      "                    If storing the datasets exceeds this fraction, an error is returned.\n",
      "                    Valid range is [0,0.9]. If number provided is outside this range, it is replaced\n",
      "                    by the closer endpoint of the range.\n",
      "\n",
      "    jsons_root_dir: str, for s3_open_fsspec mode only, the root/parent directory where the\n",
      "                    fsspec/kerchunk-generated jsons are found.\n",
      "                    jsons are generated using the steps described here:\n",
      "                    https://medium.com/pangeo/fake-it-until-you-make-it-reading-goes-netcdf4-data-on-aws-s3\n",
      "                    as-zarr-for-rapid-data-access-61e33f8fe685\n",
      "                    and stored as {jsons_root_dir}/MZZ_{GRIDTYPE}_{TIME_RES}/{SHORTNAME}.json.\n",
      "                    For v4r4, GRIDTYPE is '05DEG' or 'LLC0090GRID'.\n",
      "                    TIME_RES is one of: ('MONTHLY','DAILY','SNAPSHOT','GEOMETRY','MIXING_COEFFS').\n",
      "\n",
      "    n_workers: int, number of workers to use in concurrent downloads. Benefits typically taper off above 5-6.\n",
      "\n",
      "    force_redownload: bool, if True, existing files will be redownloaded and replaced;\n",
      "                            if False (default), existing files will not be replaced.\n",
      "\n",
      "    Returns\n",
      "    -------\n",
      "    ds_out: xarray Dataset or dict of xarray Datasets (with ShortNames as keys),\n",
      "            containing all of the accessed datasets.\n",
      "            This function does not work with the query modes: 'ls','query','s3_ls','s3_query'.\n",
      "\n"
     ]
    }
   ],
   "source": [
    "help(ea.ecco_podaac_to_xrdataset)"
   ]
  },
  {
   "cell_type": "code",
   "execution_count": 77,
   "id": "6f92cc8a-966d-4a66-acaa-8dec6f5ce3e1",
   "metadata": {},
   "outputs": [],
   "source": [
    "from netrc import netrc\n",
    "from subprocess import Popen\n",
    "from platform import system\n",
    "from getpass import getpass\n",
    "import os"
   ]
  },
  {
   "cell_type": "code",
   "execution_count": 5,
   "id": "3d80acf0-d2d5-48cf-a2ca-b37d09d0ff6c",
   "metadata": {},
   "outputs": [],
   "source": [
    "# Earthaccess info:"
   ]
  },
  {
   "cell_type": "code",
   "execution_count": 110,
   "id": "ccb1881f-92c8-454a-8fb8-5915cfcd9377",
   "metadata": {},
   "outputs": [],
   "source": [
    "urs = 'urs.earthdata.nasa.gov'    # Earthdata URL endpoint for authentication\n",
    "prompts = ['Enter NASA Earthdata Login Username: ',\n",
    "           'Enter NASA Earthdata Login Password: ']\n",
    "\n",
    "# Determine the OS (Windows machines usually use an '_netrc' file)\n",
    "netrc_name = \"_netrc\" if system()==\"Windows\" else \".netrc\"\n",
    "\n",
    "# Determine if netrc file exists, and if so, if it includes NASA Earthdata Login Credentials\n",
    "try:\n",
    "    netrcDir = os.path.expanduser(f\"~/{netrc_name}\")\n",
    "    netrc(netrcDir).authenticators(urs)[0]\n",
    "\n",
    "# Below, create a netrc file and prompt user for NASA Earthdata Login Username and Password\n",
    "except FileNotFoundError:\n",
    "    homeDir = os.path.expanduser(\"~\")\n",
    "    Popen('touch {0}{2} | echo machine {1} >> {0}{2}'.format(homeDir + os.sep, urs, netrc_name), shell=True)\n",
    "    Popen('echo login {} >> {}{}'.format(getpass(prompt=prompts[0]), homeDir + os.sep, netrc_name), shell=True)\n",
    "    Popen('echo \\'password {} \\'>> {}{}'.format(getpass(prompt=prompts[1]), homeDir + os.sep, netrc_name), shell=True)\n",
    "    # Set restrictive permissions\n",
    "    Popen('chmod 0600 {0}{1}'.format(homeDir + os.sep, netrc_name), shell=True)\n",
    "\n",
    "    # Determine OS and edit netrc file if it exists but is not set up for NASA Earthdata Login\n",
    "except TypeError:\n",
    "    homeDir = os.path.expanduser(\"~\")\n",
    "    Popen('echo machine {1} >> {0}{2}'.format(homeDir + os.sep, urs, netrc_name), shell=True)\n",
    "    Popen('echo login {} >> {}{}'.format(getpass(prompt=prompts[0]), homeDir + os.sep, netrc_name), shell=True)\n",
    "    Popen('echo \\'password {} \\'>> {}{}'.format(getpass(prompt=prompts[1]), homeDir + os.sep, netrc_name), shell=True)"
   ]
  },
  {
   "cell_type": "code",
   "execution_count": 111,
   "id": "0ef8112c-f0b1-4a74-b079-59e160322800",
   "metadata": {},
   "outputs": [
    {
     "name": "stdout",
     "output_type": "stream",
     "text": [
      "Requirement already satisfied: podaac-data-subscriber in c:\\users\\nodiscontinuity\\documents\\newanaconda3\\envs\\practice_swath\\lib\\site-packages (1.15.2)\n",
      "Requirement already satisfied: harmony-py<0.5.0,>=0.4.12 in c:\\users\\nodiscontinuity\\documents\\newanaconda3\\envs\\practice_swath\\lib\\site-packages (from podaac-data-subscriber) (0.4.15)\n",
      "Requirement already satisfied: packaging<24.0,>=23.0 in c:\\users\\nodiscontinuity\\documents\\newanaconda3\\envs\\practice_swath\\lib\\site-packages (from podaac-data-subscriber) (23.2)\n",
      "Requirement already satisfied: requests<3.0.0,>=2.27.1 in c:\\users\\nodiscontinuity\\documents\\newanaconda3\\envs\\practice_swath\\lib\\site-packages (from podaac-data-subscriber) (2.32.3)\n",
      "Requirement already satisfied: tenacity<9.0.0,>=8.0.1 in c:\\users\\nodiscontinuity\\documents\\newanaconda3\\envs\\practice_swath\\lib\\site-packages (from podaac-data-subscriber) (8.5.0)\n",
      "Requirement already satisfied: python-dateutil~=2.8.2 in c:\\users\\nodiscontinuity\\documents\\newanaconda3\\envs\\practice_swath\\lib\\site-packages (from harmony-py<0.5.0,>=0.4.12->podaac-data-subscriber) (2.8.2)\n",
      "Requirement already satisfied: python-dotenv~=0.20.0 in c:\\users\\nodiscontinuity\\documents\\newanaconda3\\envs\\practice_swath\\lib\\site-packages (from harmony-py<0.5.0,>=0.4.12->podaac-data-subscriber) (0.20.0)\n",
      "Requirement already satisfied: progressbar2~=4.2.0 in c:\\users\\nodiscontinuity\\documents\\newanaconda3\\envs\\practice_swath\\lib\\site-packages (from harmony-py<0.5.0,>=0.4.12->podaac-data-subscriber) (4.2.0)\n",
      "Requirement already satisfied: sphinxcontrib-napoleon~=0.7 in c:\\users\\nodiscontinuity\\documents\\newanaconda3\\envs\\practice_swath\\lib\\site-packages (from harmony-py<0.5.0,>=0.4.12->podaac-data-subscriber) (0.7)\n",
      "Requirement already satisfied: curlify~=2.2.1 in c:\\users\\nodiscontinuity\\documents\\newanaconda3\\envs\\practice_swath\\lib\\site-packages (from harmony-py<0.5.0,>=0.4.12->podaac-data-subscriber) (2.2.1)\n",
      "Requirement already satisfied: shapely~=2.0.4 in c:\\users\\nodiscontinuity\\documents\\newanaconda3\\envs\\practice_swath\\lib\\site-packages (from harmony-py<0.5.0,>=0.4.12->podaac-data-subscriber) (2.0.6)\n",
      "Requirement already satisfied: charset-normalizer<4,>=2 in c:\\users\\nodiscontinuity\\documents\\newanaconda3\\envs\\practice_swath\\lib\\site-packages (from requests<3.0.0,>=2.27.1->podaac-data-subscriber) (3.3.2)\n",
      "Requirement already satisfied: idna<4,>=2.5 in c:\\users\\nodiscontinuity\\documents\\newanaconda3\\envs\\practice_swath\\lib\\site-packages (from requests<3.0.0,>=2.27.1->podaac-data-subscriber) (3.7)\n",
      "Requirement already satisfied: urllib3<3,>=1.21.1 in c:\\users\\nodiscontinuity\\documents\\newanaconda3\\envs\\practice_swath\\lib\\site-packages (from requests<3.0.0,>=2.27.1->podaac-data-subscriber) (2.2.3)\n",
      "Requirement already satisfied: certifi>=2017.4.17 in c:\\users\\nodiscontinuity\\documents\\newanaconda3\\envs\\practice_swath\\lib\\site-packages (from requests<3.0.0,>=2.27.1->podaac-data-subscriber) (2024.8.30)\n",
      "Requirement already satisfied: python-utils>=3.0.0 in c:\\users\\nodiscontinuity\\documents\\newanaconda3\\envs\\practice_swath\\lib\\site-packages (from progressbar2~=4.2.0->harmony-py<0.5.0,>=0.4.12->podaac-data-subscriber) (3.9.0)\n",
      "Requirement already satisfied: six>=1.5 in c:\\users\\nodiscontinuity\\documents\\newanaconda3\\envs\\practice_swath\\lib\\site-packages (from python-dateutil~=2.8.2->harmony-py<0.5.0,>=0.4.12->podaac-data-subscriber) (1.16.0)\n",
      "Requirement already satisfied: numpy<3,>=1.14 in c:\\users\\nodiscontinuity\\documents\\newanaconda3\\envs\\practice_swath\\lib\\site-packages (from shapely~=2.0.4->harmony-py<0.5.0,>=0.4.12->podaac-data-subscriber) (2.1.3)\n",
      "Requirement already satisfied: pockets>=0.3 in c:\\users\\nodiscontinuity\\documents\\newanaconda3\\envs\\practice_swath\\lib\\site-packages (from sphinxcontrib-napoleon~=0.7->harmony-py<0.5.0,>=0.4.12->podaac-data-subscriber) (0.9.1)\n",
      "Requirement already satisfied: typing-extensions>3.10.0.2 in c:\\users\\nodiscontinuity\\documents\\newanaconda3\\envs\\practice_swath\\lib\\site-packages (from python-utils>=3.0.0->progressbar2~=4.2.0->harmony-py<0.5.0,>=0.4.12->podaac-data-subscriber) (4.11.0)\n",
      "Note: you may need to restart the kernel to use updated packages.\n"
     ]
    }
   ],
   "source": [
    "pip install podaac-data-subscriber"
   ]
  },
  {
   "cell_type": "code",
   "execution_count": 118,
   "id": "bf7912ac-db09-477a-8827-137eeabd59c2",
   "metadata": {},
   "outputs": [
    {
     "name": "stdout",
     "output_type": "stream",
     "text": [
      "Requirement already satisfied: netcdf4 in c:\\users\\nodiscontinuity\\documents\\newanaconda3\\envs\\practice_swath\\lib\\site-packages (1.7.2)\n",
      "Requirement already satisfied: cftime in c:\\users\\nodiscontinuity\\documents\\newanaconda3\\envs\\practice_swath\\lib\\site-packages (from netcdf4) (1.6.4.post1)\n",
      "Requirement already satisfied: certifi in c:\\users\\nodiscontinuity\\documents\\newanaconda3\\envs\\practice_swath\\lib\\site-packages (from netcdf4) (2024.8.30)\n",
      "Requirement already satisfied: numpy in c:\\users\\nodiscontinuity\\documents\\newanaconda3\\envs\\practice_swath\\lib\\site-packages (from netcdf4) (2.1.3)\n",
      "Note: you may need to restart the kernel to use updated packages.\n"
     ]
    }
   ],
   "source": [
    "pip install netcdf4"
   ]
  },
  {
   "cell_type": "code",
   "execution_count": 119,
   "id": "9aa34f8e-1b6a-469c-afc5-05cd0c7bde99",
   "metadata": {
    "scrolled": true
   },
   "outputs": [
    {
     "name": "stdout",
     "output_type": "stream",
     "text": [
      "Requirement already satisfied: h5netcdf in c:\\users\\nodiscontinuity\\documents\\newanaconda3\\envs\\practice_swath\\lib\\site-packages (1.5.0)\n",
      "Requirement already satisfied: h5py in c:\\users\\nodiscontinuity\\documents\\newanaconda3\\envs\\practice_swath\\lib\\site-packages (from h5netcdf) (3.12.1)\n",
      "Requirement already satisfied: packaging in c:\\users\\nodiscontinuity\\documents\\newanaconda3\\envs\\practice_swath\\lib\\site-packages (from h5netcdf) (23.2)\n",
      "Requirement already satisfied: numpy>=1.19.3 in c:\\users\\nodiscontinuity\\documents\\newanaconda3\\envs\\practice_swath\\lib\\site-packages (from h5py->h5netcdf) (2.1.3)\n",
      "Note: you may need to restart the kernel to use updated packages.\n"
     ]
    }
   ],
   "source": [
    "pip install h5netcdf"
   ]
  },
  {
   "cell_type": "code",
   "execution_count": null,
   "id": "4f132eea-b734-4d3f-a91a-664719ce2635",
   "metadata": {},
   "outputs": [],
   "source": [
    "# Tile 7 (Alaska Study area)"
   ]
  },
  {
   "cell_type": "code",
   "execution_count": 120,
   "id": "305eae91-0fba-4f3a-9a0c-05f69f7e4cf3",
   "metadata": {},
   "outputs": [
    {
     "name": "stdout",
     "output_type": "stream",
     "text": [
      "created download directory C:\\Users\\Nodiscontinuity\\Downloads\\ECCO_V4r4_PODAAC\\ECCO_L4_GEOMETRY_LLC0090GRID_V4R4\n",
      "\n",
      "GRID_GEOMETRY_ECCO_V4r4_native_llc0090.nc already exists, and force=False, not re-downloading\n",
      "DL Progress: 100%|###################################| 1/1 [00:00<?, ?it/s]\n",
      "\n",
      "=====================================\n",
      "total downloaded: 0.0 Mb\n",
      "avg download speed: 0.0 Mb/s\n",
      "Time spent = 0.017676591873168945 seconds\n",
      "\n",
      "\n",
      "North Pacific tiles: [7]\n"
     ]
    }
   ],
   "source": [
    "# load grid file, generic command:\n",
    "grid_shortname = 'ECCO_L4_GEOMETRY_LLC0090GRID_V4R4'\n",
    "ds_grid = ea.ecco_podaac_to_xrdataset(grid_shortname,\\\n",
    "                                      mode='download',\\\n",
    "                                      download_root_dir=join(user_home_dir,'Downloads','ECCO_V4r4_PODAAC')).compute()\n",
    "\n",
    "# find llc90 tiles in given bounding box\n",
    "def llc90_tiles_find(ds_grid,latsouth,latnorth,longwest,longeast):\n",
    "    lat_llc90 = ds_grid.YC.values\n",
    "    lon_llc90 = ds_grid.XC.values\n",
    "\n",
    "    cells_in_box = np.logical_and(np.logical_and(lat_llc90 >= latsouth,lat_llc90 <= latnorth),\\\n",
    "                                  ((lon_llc90 - longwest - 1.e-5) % 360) <= (longeast - longwest - 1.e-5) % 360)\n",
    "    cells_in_box_tile_ind = cells_in_box.nonzero()[0]\n",
    "    tiles_in_box = np.unique(cells_in_box_tile_ind)\n",
    "\n",
    "    return tiles_in_box\n",
    "\n",
    "\n",
    "# find tiles in North Pacific\n",
    "longwest = -180\n",
    "longeast = -165\n",
    "latsouth = 52\n",
    "latnorth = 70\n",
    "\n",
    "tiles_N_Pac = llc90_tiles_find(ds_grid,latsouth,latnorth,longwest,longeast)\n",
    "print('North Pacific tiles: '+str(tiles_N_Pac))"
   ]
  },
  {
   "cell_type": "code",
   "execution_count": null,
   "id": "01b9f229-1766-47ad-b293-cf53981424c7",
   "metadata": {},
   "outputs": [],
   "source": [
    "#Explore Dataframes to weight monthly data by days"
   ]
  },
  {
   "cell_type": "code",
   "execution_count": 35,
   "id": "555f67cc-9525-4d68-924b-083202fc5bed",
   "metadata": {},
   "outputs": [
    {
     "name": "stdout",
     "output_type": "stream",
     "text": [
      "created download directory C:\\Users\\Nodiscontinuity\\Downloads\\ECCO_V4r4_PODAAC\\ECCO_L4_OCEAN_3D_SALINITY_FLUX_LLC0090GRID_MONTHLY_V4R4\n"
     ]
    },
    {
     "name": "stderr",
     "output_type": "stream",
     "text": [
      "C:\\Users\\Nodiscontinuity\\Downloads\\ecco_access\\ecco_download.py:126: UserWarning: no explicit representation of timezones available for np.datetime64\n",
      "  time_start = np.append(time_start,np.datetime64(curr_entry['time_start'],'ns'))\n"
     ]
    },
    {
     "name": "stdout",
     "output_type": "stream",
     "text": [
      "\n",
      "OCEAN_3D_SALINITY_FLUX_mon_mean_2017-01_ECCO_V4r4_native_llc0090.nc already exists, and force=False, not re-downloading\n",
      "\n",
      "OCEAN_3D_SALINITY_FLUX_mon_mean_2017-02_ECCO_V4r4_native_llc0090.nc already exists, and force=False, not re-downloading\n",
      "\n",
      "OCEAN_3D_SALINITY_FLUX_mon_mean_2017-03_ECCO_V4r4_native_llc0090.nc already exists, and force=False, not re-downloading\n",
      "\n",
      "OCEAN_3D_SALINITY_FLUX_mon_mean_2017-04_ECCO_V4r4_native_llc0090.nc already exists, and force=False, not re-downloading\n",
      "\n",
      "OCEAN_3D_SALINITY_FLUX_mon_mean_2017-05_ECCO_V4r4_native_llc0090.nc already exists, and force=False, not re-downloading\n",
      "\n",
      "OCEAN_3D_SALINITY_FLUX_mon_mean_2017-06_ECCO_V4r4_native_llc0090.nc already exists, and force=False, not re-downloading\n",
      "\n",
      "OCEAN_3D_SALINITY_FLUX_mon_mean_2017-07_ECCO_V4r4_native_llc0090.nc already exists, and force=False, not re-downloading\n",
      "\n",
      "OCEAN_3D_SALINITY_FLUX_mon_mean_2017-08_ECCO_V4r4_native_llc0090.nc already exists, and force=False, not re-downloading\n",
      "\n",
      "OCEAN_3D_SALINITY_FLUX_mon_mean_2017-09_ECCO_V4r4_native_llc0090.nc already exists, and force=False, not re-downloading\n",
      "\n",
      "OCEAN_3D_SALINITY_FLUX_mon_mean_2017-10_ECCO_V4r4_native_llc0090.nc already exists, and force=False, not re-downloading\n",
      "\n",
      "OCEAN_3D_SALINITY_FLUX_mon_mean_2017-11_ECCO_V4r4_native_llc0090.nc already exists, and force=False, not re-downloading\n",
      "\n",
      "OCEAN_3D_SALINITY_FLUX_mon_mean_2017-12_ECCO_V4r4_native_llc0090.nc already exists, and force=False, not re-downloading\n",
      "DL Progress: 100%|#################################| 12/12 [00:00<?, ?it/s]\n",
      "\n",
      "=====================================\n",
      "total downloaded: 0.0 Mb\n",
      "downloading OCEAN_3D_SALINITY_FLUX_mon_mean_2017-01_ECCO_V4r4_native_llc0090.nc\n",
      "\n",
      "OCEAN_3D_SALINITY_FLUX_mon_mean_2017-01_ECCO_V4r4_native_llc0090.nc already exists, and force=False, not re-downloading\n",
      "downloading OCEAN_3D_SALINITY_FLUX_mon_mean_2017-02_ECCO_V4r4_native_llc0090.nc\n",
      "\n",
      "OCEAN_3D_SALINITY_FLUX_mon_mean_2017-02_ECCO_V4r4_native_llc0090.nc already exists, and force=False, not re-downloading\n",
      "downloading OCEAN_3D_SALINITY_FLUX_mon_mean_2017-03_ECCO_V4r4_native_llc0090.nc\n",
      "\n",
      "OCEAN_3D_SALINITY_FLUX_mon_mean_2017-03_ECCO_V4r4_native_llc0090.nc already exists, and force=False, not re-downloading\n",
      "downloading OCEAN_3D_SALINITY_FLUX_mon_mean_2017-04_ECCO_V4r4_native_llc0090.nc\n",
      "\n",
      "OCEAN_3D_SALINITY_FLUX_mon_mean_2017-04_ECCO_V4r4_native_llc0090.nc already exists, and force=False, not re-downloading\n",
      "downloading OCEAN_3D_SALINITY_FLUX_mon_mean_2017-05_ECCO_V4r4_native_llc0090.nc\n",
      "\n",
      "OCEAN_3D_SALINITY_FLUX_mon_mean_2017-05_ECCO_V4r4_native_llc0090.nc already exists, and force=False, not re-downloading\n",
      "downloading OCEAN_3D_SALINITY_FLUX_mon_mean_2017-06_ECCO_V4r4_native_llc0090.nc\n",
      "\n",
      "OCEAN_3D_SALINITY_FLUX_mon_mean_2017-06_ECCO_V4r4_native_llc0090.nc already exists, and force=False, not re-downloading\n",
      "downloading OCEAN_3D_SALINITY_FLUX_mon_mean_2017-07_ECCO_V4r4_native_llc0090.nc\n",
      "\n",
      "OCEAN_3D_SALINITY_FLUX_mon_mean_2017-07_ECCO_V4r4_native_llc0090.nc already exists, and force=False, not re-downloading\n",
      "downloading OCEAN_3D_SALINITY_FLUX_mon_mean_2017-08_ECCO_V4r4_native_llc0090.nc\n",
      "\n",
      "OCEAN_3D_SALINITY_FLUX_mon_mean_2017-08_ECCO_V4r4_native_llc0090.nc already exists, and force=False, not re-downloading\n",
      "downloading OCEAN_3D_SALINITY_FLUX_mon_mean_2017-09_ECCO_V4r4_native_llc0090.nc\n",
      "\n",
      "OCEAN_3D_SALINITY_FLUX_mon_mean_2017-09_ECCO_V4r4_native_llc0090.nc already exists, and force=False, not re-downloading\n",
      "downloading OCEAN_3D_SALINITY_FLUX_mon_mean_2017-10_ECCO_V4r4_native_llc0090.nc\n",
      "\n",
      "OCEAN_3D_SALINITY_FLUX_mon_mean_2017-10_ECCO_V4r4_native_llc0090.nc already exists, and force=False, not re-downloading\n",
      "downloading OCEAN_3D_SALINITY_FLUX_mon_mean_2017-11_ECCO_V4r4_native_llc0090.nc\n",
      "\n",
      "OCEAN_3D_SALINITY_FLUX_mon_mean_2017-11_ECCO_V4r4_native_llc0090.nc already exists, and force=False, not re-downloading\n",
      "downloading OCEAN_3D_SALINITY_FLUX_mon_mean_2017-12_ECCO_V4r4_native_llc0090.nc\n",
      "\n",
      "OCEAN_3D_SALINITY_FLUX_mon_mean_2017-12_ECCO_V4r4_native_llc0090.nc already exists, and force=False, not re-downloading\n",
      "\n",
      "=====================================\n",
      "total downloaded: 0.0 Mb\n",
      "avg download speed: 0.0 Mb/s\n",
      "Time spent = 0.002019643783569336 seconds\n",
      "\n",
      "\n"
     ]
    }
   ],
   "source": [
    "#import ecco_v4_py as ecco\n",
    "#from os.path import join\n",
    "#import os\n",
    "\n",
    "#user_home_dir = os.path.expanduser(\"~\") #get user home directory\n",
    "\n",
    "Salinity_flux_monthly_shortname = 'ECCO_L4_OCEAN_3D_SALINITY_FLUX_LLC0090GRID_MONTHLY_V4R4'\n",
    "ds_Sal_flux = ea.ecco_podaac_to_xrdataset(Salinity_flux_monthly_shortname,\n",
    "                                        StartDate='2017-01', EndDate='2017-12',\n",
    "                                        mode='download',\n",
    "                                        download_root_dir=join(user_home_dir, 'Downloads', 'ECCO_V4r4_PODAAC'))\n",
    "\n",
    "\n",
    "\n",
    "# Access the salinity fields (SALT)\n",
    "salinity_flux = ds_Sal_flux.ADVr_SLT"
   ]
  },
  {
   "cell_type": "code",
   "execution_count": 128,
   "id": "f4c80e17-0a16-44eb-abaf-9b545afffd20",
   "metadata": {},
   "outputs": [
    {
     "name": "stdout",
     "output_type": "stream",
     "text": [
      "(5, 50, 13, 90, 90)\n",
      "(5, 50, 90, 90)\n",
      "(5, 90, 90)\n",
      "\n",
      "Weighted DataFrame:\n",
      " "
     ]
    },
    {
     "name": "stderr",
     "output_type": "stream",
     "text": [
      "C:\\Users\\Nodiscontinuity\\AppData\\Local\\Temp\\ipykernel_19380\\627301333.py:10: RuntimeWarning: Mean of empty slice\n",
      "  salinity_flux_seasonal_Bering_vert = np.nanmean(salinity_flux_seasonal_Bering, axis=1) #Take vertical mean for each month, in tile #7\n"
     ]
    },
    {
     "name": "stdout",
     "output_type": "stream",
     "text": [
      "                                                 monthly_data  days_in_month  \\\n",
      "2017-04-01  [[nan, nan, nan, nan, nan, nan, nan, nan, nan,...             30   \n",
      "2017-05-01  [[nan, nan, nan, nan, nan, nan, nan, nan, nan,...             31   \n",
      "2017-06-01  [[nan, nan, nan, nan, nan, nan, nan, nan, nan,...             30   \n",
      "\n",
      "                                                weighted_data  \n",
      "2017-04-01  [[nan, nan, nan, nan, nan, nan, nan, nan, nan,...  \n",
      "2017-05-01  [[nan, nan, nan, nan, nan, nan, nan, nan, nan,...  \n",
      "2017-06-01  [[nan, nan, nan, nan, nan, nan, nan, nan, nan,...  \n",
      "\n",
      "Weighted Mean: [[             nan              nan              nan ... -164602.2967033\n",
      "   -90617.69230769  310277.64835165]\n",
      " [             nan              nan              nan ... -176372.62637363\n",
      "    23623.37362637  286280.43956044]\n",
      " [             nan              nan              nan ... -309822.02197802\n",
      "    -2703.06593407  119724.76923077]\n",
      " ...\n",
      " [             nan              nan              nan ... -672631.2967033\n",
      "  -607639.16483516 -547084.21978022]\n",
      " [             nan              nan              nan ... -566841.97802198\n",
      "  -520943.47252747 -438530.41758242]\n",
      " [             nan              nan              nan ... -387593.0989011\n",
      "  -347447.82417582 -308303.56043956]]\n",
      "(90, 90)\n",
      "(90, 90)\n"
     ]
    },
    {
     "data": {
      "image/png": "[encoded data removed]",
      "text/plain": [
       "<Figure size 640x480 with 2 Axes>"
      ]
     },
     "metadata": {},
     "output_type": "display_data"
    }
   ],
   "source": [
    "\n",
    "tile_num = 7 #(Study area in Alaska)\n",
    "\n",
    "# Select data for the specified tile\n",
    "\n",
    "# Select March to September (months without full ice in Bering Strait)\n",
    "salinity_flux_seasonal = ds_Sal_flux.ADVr_SLT.sel(time=ds_Sal_flux.time.dt.month.isin(range(4, 9)))  # Select months 4 to 9\n",
    "print(salinity_flux_seasonal.shape)#check size of array\n",
    "salinity_flux_seasonal_Bering=salinity_flux_seasonal.sel(tile=tile_num).values #pick tile 7\n",
    "print(salinity_flux_seasonal_Bering.shape) #check size of array after narrowing down to tile 7\n",
    "salinity_flux_seasonal_Bering_vert = np.nanmean(salinity_flux_seasonal_Bering, axis=1) #Take vertical mean for each month, in tile #7\n",
    "print(salinity_flux_seasonal_Bering_vert.shape) #Check array shape after taking vertical mean\n",
    "\n",
    "#weight months\n",
    "#(Try calculation for thre months' worth of data, named them for clarity, but not necessary:)\n",
    "April =salinity_flux_seasonal_Bering_vert[1, 0:90, 0:90]  # elements of the first layer\n",
    "May =salinity_flux_seasonal_Bering_vert[2, 0:90, 0:90] #  elements of the second layer.\n",
    "June =salinity_flux_seasonal_Bering_vert[3, 0:90, 0:90] # elements of the last layer.\n",
    "\n",
    "# Example monthly data: April, May, June \n",
    "monthly_values = ([April, May, June]);\n",
    "\n",
    "year = 2017\n",
    "months = pd.date_range(start=f'{year}-04-01', periods=3, freq='MS');\n",
    "df = pd.DataFrame({'monthly_data': monthly_values}, index=months)\n",
    "def weight_monthly_data(df, year):\n",
    "    \n",
    "#\"\"\"Weights monthly data by the number of days in each month.\"\"\"\n",
    "    def days_in_month(year):\n",
    "       # \"\"\"Calculates the number of days in each month.\"\"\"\n",
    "        date_range = pd.date_range(start=f'{year}-04-01', periods=3, freq='MS');\n",
    "        days = date_range.days_in_month.values;\n",
    "        return days;\n",
    "\n",
    "    days = days_in_month(year);\n",
    "    df['days_in_month'] = days;\n",
    "    df['weighted_data'] = df['monthly_data'] * (df['days_in_month'] / df['days_in_month'].sum());\n",
    "    return df;\n",
    "\n",
    "# Apply weighting\n",
    "weighted_df = weight_monthly_data(df.copy(), year);  # use copy() to avoid altering original dataframe\n",
    "print(\"\\nWeighted DataFrame:\\n\", weighted_df)\n",
    "\n",
    "# Calculate the mean of the weighted data\n",
    "def calculate_weighted_mean(df, year):\n",
    "    def days_in_month(year):\n",
    "        date_range = pd.date_range(start=f'{year}-04-01', periods=3, freq='MS')\n",
    "        days = date_range.days_in_month.values\n",
    "        return days\n",
    "\n",
    "    days = days_in_month(year)\n",
    "    df['days_in_month'] = days\n",
    "    df['weighted_values'] = df['monthly_data'] * df['days_in_month']\n",
    "    weighted_mean = df['weighted_values'].sum() / df['days_in_month'].sum()\n",
    "    return weighted_mean\n",
    "\n",
    "weighted_mean = calculate_weighted_mean(df.copy(), year)\n",
    "\n",
    "print(\"\\nWeighted Mean:\", weighted_mean)\n",
    "print(weighted_mean.shape)\n",
    "\n",
    "lons_salx = salinity_flux.XC.sel(tile=tile_num).values\n",
    "lats_salx = salinity_flux.YC.sel(tile=tile_num).values\n",
    "\n",
    "data_rotated_salx = np.rot90(weighted_mean, k=1)#rotate tile 7 data\n",
    "#print(data_rotated_sal)\n",
    "ny_sx, nx_sx=data_rotated_salx.shape\n",
    "print(data_rotated_salx.shape)\n",
    "lons_rotated_sx = np.linspace(lons_salx.min(), lons_salx.max(), nx_sx)#interpolate XC and YC grids\n",
    "lats_rotated_sx= np.linspace(lats_salx.min(), lats_salx.max(), ny_sx)\n",
    "nx_sx, ny_sx= np.meshgrid(lons_rotated_sx, lats_rotated_sx)\n",
    "\n",
    "plt.figure()\n",
    "\n",
    "mesh = plt.pcolormesh(lons_rotated_sx, lats_rotated_sx,data_rotated_salx, cmap='tab20_r', norm=mcolors.CenteredNorm()) #centered norm (split colorbar around '0')\n",
    "\n",
    "colorbar = plt.colorbar(mesh)\n",
    "# Add axis labels\n",
    "plt.xlabel('Longitude')  # Replace with your specific longitude units if needed\n",
    "plt.ylabel('Latitude')  # Replace with your specific latitude units if needed\n",
    "\n",
    "# Add a title\n",
    "plt.suptitle('Mean of April, May, June 2017: vertical advective flux of Salinity (Sv)',y=0.02)  # \n",
    "\n",
    "colorbar.ax.set_ylim(-1e6, 1e6) #Sets the colorbar limits (SV)\n",
    "plt.show()"
   ]
  },
  {
   "cell_type": "code",
   "execution_count": null,
   "id": "f211e659-95a5-4eeb-bd10-13f0539226e4",
   "metadata": {},
   "outputs": [],
   "source": []
  }
 ],
 "metadata": {
  "kernelspec": {
   "display_name": "Python 3 (ipykernel)",
   "language": "python",
   "name": "python3"
  },
  "language_info": {
   "codemirror_mode": {
    "name": "ipython",
    "version": 3
   },
   "file_extension": ".py",
   "mimetype": "text/x-python",
   "name": "python",
   "nbconvert_exporter": "python",
   "pygments_lexer": "ipython3",
   "version": "3.12.7"
  }
 },
 "nbformat": 4,
 "nbformat_minor": 5
}
