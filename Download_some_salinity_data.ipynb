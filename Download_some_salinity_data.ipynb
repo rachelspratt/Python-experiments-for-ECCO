{
 "cells": [
  {
   "cell_type": "code",
   "execution_count": null,
   "id": "d2659c86-8279-40b8-9795-f2c8d309acee",
   "metadata": {},
   "outputs": [],
   "source": [
    "#Download some sea surface Salinity data for the year 2017"
   ]
  },
  {
   "cell_type": "code",
   "execution_count": 2,
   "id": "d32cfd0d-5235-42ef-b8d5-5a1db5eca378",
   "metadata": {},
   "outputs": [],
   "source": [
    "from netrc import netrc\n",
    "from subprocess import Popen\n",
    "from platform import system\n",
    "from getpass import getpass\n",
    "import os"
   ]
  },
  {
   "cell_type": "code",
   "execution_count": 8,
   "id": "32e4fede-4c4c-4833-89e3-9cb6494ac72d",
   "metadata": {},
   "outputs": [],
   "source": [
    "import numpy as np\n",
    "import xarray as xr\n",
    "from os.path import join,expanduser\n",
    "import matplotlib.pyplot as plt\n",
    "import ecco_access as ea\n",
    "\n",
    "# identify user's home directory\n",
    "user_home_dir = expanduser('~')"
   ]
  },
  {
   "cell_type": "code",
   "execution_count": 7,
   "id": "9d317f2f-d2b4-40b3-9255-712c8ed83203",
   "metadata": {},
   "outputs": [],
   "source": [
    "urs = 'urs.earthdata.nasa.gov'    # Earthdata URL endpoint for authentication\n",
    "prompts = ['Enter NASA Earthdata Login Username: ',\n",
    "           'Enter NASA Earthdata Login Password: ']\n",
    "\n",
    "# Determine the OS (Windows machines usually use an '_netrc' file)\n",
    "netrc_name = \"_netrc\" if system()==\"Windows\" else \".netrc\"\n",
    "\n",
    "# Determine if netrc file exists, and if so, if it includes NASA Earthdata Login Credentials\n",
    "try:\n",
    "    netrcDir = os.path.expanduser(f\"~/{netrc_name}\")\n",
    "    netrc(netrcDir).authenticators(urs)[0]\n",
    "\n",
    "# Below, create a netrc file and prompt user for NASA Earthdata Login Username and Password\n",
    "except FileNotFoundError:\n",
    "    homeDir = os.path.expanduser(\"~\")\n",
    "    Popen('touch {0}{2} | echo machine {1} >> {0}{2}'.format(homeDir + os.sep, urs, netrc_name), shell=True)\n",
    "    Popen('echo login {} >> {}{}'.format(getpass(prompt=prompts[0]), homeDir + os.sep, netrc_name), shell=True)\n",
    "    Popen('echo \\'password {} \\'>> {}{}'.format(getpass(prompt=prompts[1]), homeDir + os.sep, netrc_name), shell=True)\n",
    "    # Set restrictive permissions\n",
    "    Popen('chmod 0600 {0}{1}'.format(homeDir + os.sep, netrc_name), shell=True)\n",
    "\n",
    "    # Determine OS and edit netrc file if it exists but is not set up for NASA Earthdata Login\n",
    "except TypeError:\n",
    "    homeDir = os.path.expanduser(\"~\")\n",
    "    Popen('echo machine {1} >> {0}{2}'.format(homeDir + os.sep, urs, netrc_name), shell=True)\n",
    "    Popen('echo login {} >> {}{}'.format(getpass(prompt=prompts[0]), homeDir + os.sep, netrc_name), shell=True)\n",
    "    Popen('echo \\'password {} \\'>> {}{}'.format(getpass(prompt=prompts[1]), homeDir + os.sep, netrc_name), shell=True)"
   ]
  },
  {
   "cell_type": "code",
   "execution_count": 9,
   "id": "68d56592-cf65-40ce-8c7d-057a22060a81",
   "metadata": {},
   "outputs": [
    {
     "name": "stdout",
     "output_type": "stream",
     "text": [
      "created download directory C:\\Users\\Nodiscontinuity\\Downloads\\ECCO_V4r4_PODAAC\\ECCO_L4_TEMP_SALINITY_LLC0090GRID_MONTHLY_V4R4\n"
     ]
    },
    {
     "name": "stderr",
     "output_type": "stream",
     "text": [
      "C:\\Users\\Nodiscontinuity\\Downloads\\ecco_access\\ecco_download.py:126: UserWarning: no explicit representation of timezones available for np.datetime64\n",
      "  time_start = np.append(time_start,np.datetime64(curr_entry['time_start'],'ns'))\n"
     ]
    },
    {
     "name": "stdout",
     "output_type": "stream",
     "text": [
      "\n",
      "OCEAN_TEMPERATURE_SALINITY_mon_mean_2017-01_ECCO_V4r4_native_llc0090.nc already exists, and force=False, not re-downloading\n",
      "\n",
      "OCEAN_TEMPERATURE_SALINITY_mon_mean_2017-02_ECCO_V4r4_native_llc0090.nc already exists, and force=False, not re-downloading\n",
      "\n",
      "OCEAN_TEMPERATURE_SALINITY_mon_mean_2017-03_ECCO_V4r4_native_llc0090.nc already exists, and force=False, not re-downloading\n",
      "\n",
      "OCEAN_TEMPERATURE_SALINITY_mon_mean_2017-04_ECCO_V4r4_native_llc0090.nc already exists, and force=False, not re-downloading\n",
      "\n",
      "OCEAN_TEMPERATURE_SALINITY_mon_mean_2017-05_ECCO_V4r4_native_llc0090.nc already exists, and force=False, not re-downloading\n",
      "\n",
      "OCEAN_TEMPERATURE_SALINITY_mon_mean_2017-07_ECCO_V4r4_native_llc0090.nc already exists, and force=False, not re-downloading\n",
      "\n",
      "OCEAN_TEMPERATURE_SALINITY_mon_mean_2017-06_ECCO_V4r4_native_llc0090.nc already exists, and force=False, not re-downloading\n",
      "\n",
      "OCEAN_TEMPERATURE_SALINITY_mon_mean_2017-10_ECCO_V4r4_native_llc0090.nc already exists, and force=False, not re-downloading\n",
      "\n",
      "OCEAN_TEMPERATURE_SALINITY_mon_mean_2017-08_ECCO_V4r4_native_llc0090.nc already exists, and force=False, not re-downloading\n",
      "\n",
      "OCEAN_TEMPERATURE_SALINITY_mon_mean_2017-09_ECCO_V4r4_native_llc0090.nc already exists, and force=False, not re-downloading\n",
      "\n",
      "OCEAN_TEMPERATURE_SALINITY_mon_mean_2017-12_ECCO_V4r4_native_llc0090.nc already exists, and force=False, not re-downloading\n",
      "\n",
      "OCEAN_TEMPERATURE_SALINITY_mon_mean_2017-11_ECCO_V4r4_native_llc0090.nc already exists, and force=False, not re-downloading\n",
      "DL Progress: 100%|#################################| 12/12 [00:00<?, ?it/s]\n",
      "\n",
      "=====================================\n",
      "total downloaded: 0.0 Mb\n",
      "avg download speed: 0.0 Mb/s\n",
      "Time spent = 0.054291725158691406 seconds\n",
      "\n",
      "\n"
     ]
    }
   ],
   "source": [
    "#import ecco_v4_py as ecco\n",
    "#from os.path import join\n",
    "#import os\n",
    "\n",
    "#user_home_dir = os.path.expanduser(\"~\") #get user home directory\n",
    "\n",
    "SSS_temp_monthly_shortname = 'ECCO_L4_TEMP_SALINITY_LLC0090GRID_MONTHLY_V4R4'\n",
    "ds_SSS = ea.ecco_podaac_to_xrdataset(SSS_temp_monthly_shortname,\n",
    "                                        StartDate='2017-01', EndDate='2017-12',\n",
    "                                        mode='download',\n",
    "                                        download_root_dir=join(user_home_dir, 'Downloads', 'ECCO_V4r4_PODAAC'))\n",
    "\n",
    "\n",
    "\n",
    "# Access the salinity fields (SALT)\n",
    "salinity_data = ds_SSS.SALT"
   ]
  },
  {
   "cell_type": "code",
   "execution_count": null,
   "id": "1e06a2d9-334d-4200-ab7d-69537b6759b3",
   "metadata": {},
   "outputs": [],
   "source": [
    "print(ds_SSS.variables)"
   ]
  }
 ],
 "metadata": {
  "kernelspec": {
   "display_name": "Python 3 (ipykernel)",
   "language": "python",
   "name": "python3"
  },
  "language_info": {
   "codemirror_mode": {
    "name": "ipython",
    "version": 3
   },
   "file_extension": ".py",
   "mimetype": "text/x-python",
   "name": "python",
   "nbconvert_exporter": "python",
   "pygments_lexer": "ipython3",
   "version": "3.12.7"
  }
 },
 "nbformat": 4,
 "nbformat_minor": 5
}
