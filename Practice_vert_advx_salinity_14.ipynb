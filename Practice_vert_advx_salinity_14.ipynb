{
 "cells": [
  {
   "cell_type": "code",
   "execution_count": 14,
   "id": "a1292cbc-3552-4813-a386-d027751025b6",
   "metadata": {},
   "outputs": [],
   "source": [
    "# bring in library of files to read data in a variety of formats\n",
    "from scipy.io import netcdf"
   ]
  },
  {
   "cell_type": "code",
   "execution_count": 15,
   "id": "1fd3ebc3-7123-4714-8efa-c89632920d5e",
   "metadata": {},
   "outputs": [],
   "source": [
    "import xarray as xr\n",
    "import numpy as np\n",
    "import cartopy.crs as ccrs\n",
    "import cartopy.feature as cfeature\n",
    "import matplotlib.pyplot as plt\n",
    "import matplotlib.lines as mlines\n",
    "import matplotlib.colors as mcolors\n",
    "import os\n",
    "import requests\n",
    "import concurrent.futures\n",
    "%matplotlib inline"
   ]
  },
  {
   "cell_type": "code",
   "execution_count": 24,
   "id": "27465133-bfb8-4efd-9d48-1269cfab7011",
   "metadata": {},
   "outputs": [],
   "source": [
    "#change and alter filepaths\n",
    "from os.path import join,expanduser\n",
    "import xarray as xr\n",
    "import numpy as np\n",
    "#library to standardize ecco access\n",
    "import ecco_access as ea\n",
    "import pandas as pd\n",
    "# identify user's home directory\n",
    "user_home_dir = expanduser('~')"
   ]
  },
  {
   "cell_type": "code",
   "execution_count": 21,
   "id": "efb972a0-068c-4f8a-9244-c85c25cd2896",
   "metadata": {},
   "outputs": [],
   "source": [
    "from netrc import netrc\n",
    "from subprocess import Popen\n",
    "from platform import system\n",
    "from getpass import getpass\n",
    "import os"
   ]
  },
  {
   "cell_type": "code",
   "execution_count": 22,
   "id": "52f957cc-8674-4707-b4ad-d347453f9f0d",
   "metadata": {},
   "outputs": [],
   "source": [
    "urs = 'urs.earthdata.nasa.gov'    # Earthdata URL endpoint for authentication\n",
    "prompts = ['Enter NASA Earthdata Login Username: ',\n",
    "           'Enter NASA Earthdata Login Password: ']\n",
    "\n",
    "# Determine the OS (Windows machines usually use an '_netrc' file)\n",
    "netrc_name = \"_netrc\" if system()==\"Windows\" else \".netrc\"\n",
    "\n",
    "# Determine if netrc file exists, and if so, if it includes NASA Earthdata Login Credentials\n",
    "try:\n",
    "    netrcDir = os.path.expanduser(f\"~/{netrc_name}\")\n",
    "    netrc(netrcDir).authenticators(urs)[0]\n",
    "\n",
    "# Below, create a netrc file and prompt user for NASA Earthdata Login Username and Password\n",
    "except FileNotFoundError:\n",
    "    homeDir = os.path.expanduser(\"~\")\n",
    "    Popen('touch {0}{2} | echo machine {1} >> {0}{2}'.format(homeDir + os.sep, urs, netrc_name), shell=True)\n",
    "    Popen('echo login {} >> {}{}'.format(getpass(prompt=prompts[0]), homeDir + os.sep, netrc_name), shell=True)\n",
    "    Popen('echo \\'password {} \\'>> {}{}'.format(getpass(prompt=prompts[1]), homeDir + os.sep, netrc_name), shell=True)\n",
    "    # Set restrictive permissions\n",
    "    Popen('chmod 0600 {0}{1}'.format(homeDir + os.sep, netrc_name), shell=True)\n",
    "\n",
    "    # Determine OS and edit netrc file if it exists but is not set up for NASA Earthdata Login\n",
    "except TypeError:\n",
    "    homeDir = os.path.expanduser(\"~\")\n",
    "    Popen('echo machine {1} >> {0}{2}'.format(homeDir + os.sep, urs, netrc_name), shell=True)\n",
    "    Popen('echo login {} >> {}{}'.format(getpass(prompt=prompts[0]), homeDir + os.sep, netrc_name), shell=True)\n",
    "    Popen('echo \\'password {} \\'>> {}{}'.format(getpass(prompt=prompts[1]), homeDir + os.sep, netrc_name), shell=True)"
   ]
  },
  {
   "cell_type": "code",
   "execution_count": 75,
   "id": "01e886d4-bef2-4e3e-b612-aee402969ba1",
   "metadata": {},
   "outputs": [
    {
     "name": "stdout",
     "output_type": "stream",
     "text": [
      "created download directory C:\\Users\\Nodiscontinuity\\Downloads\\ECCO_V4r4_PODAAC\\ECCO_L4_OCEAN_3D_SALINITY_FLUX_LLC0090GRID_MONTHLY_V4R4\n"
     ]
    },
    {
     "name": "stderr",
     "output_type": "stream",
     "text": [
      "C:\\Users\\Nodiscontinuity\\Downloads\\ecco_access\\ecco_download.py:126: UserWarning: no explicit representation of timezones available for np.datetime64\n",
      "  time_start = np.append(time_start,np.datetime64(curr_entry['time_start'],'ns'))\n"
     ]
    },
    {
     "name": "stdout",
     "output_type": "stream",
     "text": [
      "\n",
      "OCEAN_3D_SALINITY_FLUX_mon_mean_2014-01_ECCO_V4r4_native_llc0090.nc already exists, and force=False, not re-downloading\n",
      "\n",
      "OCEAN_3D_SALINITY_FLUX_mon_mean_2014-02_ECCO_V4r4_native_llc0090.nc already exists, and force=False, not re-downloading\n",
      "\n",
      "OCEAN_3D_SALINITY_FLUX_mon_mean_2014-03_ECCO_V4r4_native_llc0090.nc already exists, and force=False, not re-downloading\n",
      "\n",
      "OCEAN_3D_SALINITY_FLUX_mon_mean_2014-04_ECCO_V4r4_native_llc0090.nc already exists, and force=False, not re-downloading\n",
      "\n",
      "OCEAN_3D_SALINITY_FLUX_mon_mean_2014-05_ECCO_V4r4_native_llc0090.nc already exists, and force=False, not re-downloading\n",
      "\n",
      "OCEAN_3D_SALINITY_FLUX_mon_mean_2014-06_ECCO_V4r4_native_llc0090.nc already exists, and force=False, not re-downloading\n",
      "\n",
      "OCEAN_3D_SALINITY_FLUX_mon_mean_2014-07_ECCO_V4r4_native_llc0090.nc already exists, and force=False, not re-downloading\n",
      "\n",
      "OCEAN_3D_SALINITY_FLUX_mon_mean_2014-08_ECCO_V4r4_native_llc0090.nc already exists, and force=False, not re-downloading\n",
      "\n",
      "OCEAN_3D_SALINITY_FLUX_mon_mean_2014-10_ECCO_V4r4_native_llc0090.nc already exists, and force=False, not re-downloading\n",
      "\n",
      "OCEAN_3D_SALINITY_FLUX_mon_mean_2014-09_ECCO_V4r4_native_llc0090.nc already exists, and force=False, not re-downloading\n",
      "\n",
      "OCEAN_3D_SALINITY_FLUX_mon_mean_2014-11_ECCO_V4r4_native_llc0090.nc already exists, and force=False, not re-downloading\n",
      "\n",
      "OCEAN_3D_SALINITY_FLUX_mon_mean_2014-12_ECCO_V4r4_native_llc0090.nc already exists, and force=False, not re-downloading\n",
      "DL Progress: 100%|#################################| 12/12 [00:00<?, ?it/s]\n",
      "\n",
      "=====================================\n",
      "total downloaded: 0.0 Mb\n",
      "avg download speed: 0.0 Mb/s\n",
      "Time spent = 0.007733821868896484 seconds\n",
      "\n",
      "\n"
     ]
    }
   ],
   "source": [
    "#import ecco_v4_py as ecco\n",
    "#from os.path import join\n",
    "#import os\n",
    "\n",
    "#user_home_dir = os.path.expanduser(\"~\") #get user home directory\n",
    "\n",
    "Salinity_flux_monthly_shortname = 'ECCO_L4_OCEAN_3D_SALINITY_FLUX_LLC0090GRID_MONTHLY_V4R4'\n",
    "ds_Sal_flux_14= ea.ecco_podaac_to_xrdataset(Salinity_flux_monthly_shortname,\n",
    "                                        StartDate='2014-01', EndDate='2014-12',\n",
    "                                        mode='download',\n",
    "                                        download_root_dir=join(user_home_dir, 'Downloads', 'ECCO_V4r4_PODAAC'))\n",
    "\n",
    "\n",
    "\n",
    "# Access the salinity fields (SALT)\n",
    "salinity_flux_14 = ds_Sal_flux_14.ADVr_SLT"
   ]
  },
  {
   "cell_type": "code",
   "execution_count": 79,
   "id": "ba7f9ada-81da-4b8b-9922-98c89935ab87",
   "metadata": {},
   "outputs": [
    {
     "name": "stdout",
     "output_type": "stream",
     "text": [
      "(5, 50, 13, 90, 90)\n",
      "(5, 50, 90, 90)\n",
      "(5, 90, 90)\n",
      "\n",
      "Weighted DataFrame:\n",
      " "
     ]
    },
    {
     "name": "stderr",
     "output_type": "stream",
     "text": [
      "C:\\Users\\Nodiscontinuity\\AppData\\Local\\Temp\\ipykernel_19748\\2746509636.py:10: RuntimeWarning: Mean of empty slice\n",
      "  salinity_flux_seasonal_Bering_vert = np.nanmean(salinity_flux_seasonal_Bering, axis=1) #Take vertical mean for each month, in tile #7\n"
     ]
    },
    {
     "name": "stdout",
     "output_type": "stream",
     "text": [
      "                                                 monthly_data  days_in_month  \\\n",
      "2014-04-01  [[nan, nan, nan, nan, nan, nan, nan, nan, nan,...             30   \n",
      "2014-05-01  [[nan, nan, nan, nan, nan, nan, nan, nan, nan,...             31   \n",
      "2014-06-01  [[nan, nan, nan, nan, nan, nan, nan, nan, nan,...             30   \n",
      "\n",
      "                                                weighted_data  \n",
      "2014-04-01  [[nan, nan, nan, nan, nan, nan, nan, nan, nan,...  \n",
      "2014-05-01  [[nan, nan, nan, nan, nan, nan, nan, nan, nan,...  \n",
      "2014-06-01  [[nan, nan, nan, nan, nan, nan, nan, nan, nan,...  \n",
      "\n",
      "Weighted Mean: [[             nan              nan              nan ... -290527.2967033\n",
      "  -778484.48351648 -109647.58241758]\n",
      " [             nan              nan              nan ... -301585.89010989\n",
      "  -394906.24175824  119851.69230769]\n",
      " [             nan              nan              nan ... -322226.06593407\n",
      "    38320.92307692   81815.12087912]\n",
      " ...\n",
      " [             nan              nan              nan ... -996358.94505495\n",
      "  -796359.91208791 -599006.76923077]\n",
      " [             nan              nan              nan ... -896247.2967033\n",
      "  -649516.83516484 -402432.04395604]\n",
      " [             nan              nan              nan ... -574995.38461538\n",
      "  -348040.21978022 -138753.31868132]]\n",
      "(90, 90)\n",
      "(90, 90)\n"
     ]
    },
    {
     "data": {
      "image/png": "[encoded data removed]",
      "text/plain": [
       "<Figure size 640x480 with 2 Axes>"
      ]
     },
     "metadata": {},
     "output_type": "display_data"
    }
   ],
   "source": [
    "tile_num = 7 #(Study area in Alaska)\n",
    "\n",
    "# Select data for the specified tile\n",
    "\n",
    "# Select March to September (months without full ice in Bering Strait)\n",
    "salinity_flux_seasonal = ds_Sal_flux_14.ADVr_SLT.sel(time=ds_Sal_flux_14.time.dt.month.isin(range(4, 9)))  # Select months 4 to 9\n",
    "print(salinity_flux_seasonal.shape)#check size of array\n",
    "salinity_flux_seasonal_Bering=salinity_flux_seasonal.sel(tile=tile_num).values #pick tile 7\n",
    "print(salinity_flux_seasonal_Bering.shape) #check size of array after narrowing down to tile 7\n",
    "salinity_flux_seasonal_Bering_vert = np.nanmean(salinity_flux_seasonal_Bering, axis=1) #Take vertical mean for each month, in tile #7\n",
    "print(salinity_flux_seasonal_Bering_vert.shape) #Check array shape after taking vertical mean\n",
    "\n",
    "#weight months\n",
    "#(Try calculation for thre months' worth of data, named them for clarity, but not necessary:)\n",
    "April =salinity_flux_seasonal_Bering_vert[1, 0:90, 0:90]  # elements of the first layer\n",
    "May =salinity_flux_seasonal_Bering_vert[2, 0:90, 0:90] #  elements of the second layer.\n",
    "June =salinity_flux_seasonal_Bering_vert[3, 0:90, 0:90] # elements of the last layer.\n",
    "\n",
    "# Example monthly data: April, May, June \n",
    "monthly_values = ([April, May, June]);\n",
    "\n",
    "year = 2014\n",
    "months = pd.date_range(start=f'{year}-04-01', periods=3, freq='MS');\n",
    "df = pd.DataFrame({'monthly_data': monthly_values}, index=months)\n",
    "def weight_monthly_data(df, year):\n",
    "    \n",
    "#\"\"\"Weights monthly data by the number of days in each month.\"\"\"\n",
    "    def days_in_month(year):\n",
    "       # \"\"\"Calculates the number of days in each month.\"\"\"\n",
    "        date_range = pd.date_range(start=f'{year}-04-01', periods=3, freq='MS');\n",
    "        days = date_range.days_in_month.values;\n",
    "        return days;\n",
    "\n",
    "    days = days_in_month(year);\n",
    "    df['days_in_month'] = days;\n",
    "    df['weighted_data'] = df['monthly_data'] * (df['days_in_month'] / df['days_in_month'].sum());\n",
    "    return df;\n",
    "\n",
    "# Apply weighting\n",
    "weighted_df = weight_monthly_data(df.copy(), year);  # use copy() to avoid altering original dataframe\n",
    "print(\"\\nWeighted DataFrame:\\n\", weighted_df)\n",
    "\n",
    "# Calculate the mean of the weighted data\n",
    "def calculate_weighted_mean(df, year):\n",
    "    def days_in_month(year):\n",
    "        date_range = pd.date_range(start=f'{year}-04-01', periods=3, freq='MS')\n",
    "        days = date_range.days_in_month.values\n",
    "        return days\n",
    "\n",
    "    days = days_in_month(year)\n",
    "    df['days_in_month'] = days\n",
    "    df['weighted_values'] = df['monthly_data'] * df['days_in_month']\n",
    "    weighted_mean = df['weighted_values'].sum() / df['days_in_month'].sum()\n",
    "    return weighted_mean\n",
    "\n",
    "weighted_mean = calculate_weighted_mean(df.copy(), year)\n",
    "\n",
    "print(\"\\nWeighted Mean:\", weighted_mean)\n",
    "print(weighted_mean.shape)\n",
    "\n",
    "lons_salx = salinity_flux_14.XC.sel(tile=tile_num).values\n",
    "lats_salx = salinity_flux_14.YC.sel(tile=tile_num).values\n",
    "\n",
    "data_rotated_salx = np.rot90(weighted_mean, k=1)#rotate tile 7 data\n",
    "#print(data_rotated_sal)\n",
    "ny_sx, nx_sx=data_rotated_salx.shape\n",
    "print(data_rotated_salx.shape)\n",
    "lons_rotated_sx = np.linspace(lons_salx.min(), lons_salx.max(), nx_sx)#interpolate XC and YC grids\n",
    "lats_rotated_sx= np.linspace(lats_salx.min(), lats_salx.max(), ny_sx)\n",
    "nx_sx, ny_sx= np.meshgrid(lons_rotated_sx, lats_rotated_sx)\n",
    "\n",
    "plt.figure()\n",
    "\n",
    "mesh = plt.pcolormesh(lons_rotated_sx, lats_rotated_sx,data_rotated_salx, cmap='tab20_r', norm=mcolors.CenteredNorm()) #centered norm (split colorbar around '0')\n",
    "\n",
    "colorbar = plt.colorbar(mesh)\n",
    "# Add axis labels\n",
    "plt.xlabel('Longitude')  # Replace with your specific longitude units if needed\n",
    "plt.ylabel('Latitude')  # Replace with your specific latitude units if needed\n",
    "\n",
    "# Add a title\n",
    "plt.suptitle('Mean of April, May, June 2014: vertical advective flux of Salinity (Sv)',y=0.02)  # \n",
    "\n",
    "colorbar.ax.set_ylim(-1e6, 1e6) #Sets the colorbar limits (SV)\n",
    "plt.show()"
   ]
  },
  {
   "cell_type": "code",
   "execution_count": null,
   "id": "ccfbd457-d00e-4e14-8bd6-b5f023b7cfac",
   "metadata": {},
   "outputs": [],
   "source": []
  }
 ],
 "metadata": {
  "kernelspec": {
   "display_name": "Python 3 (ipykernel)",
   "language": "python",
   "name": "python3"
  },
  "language_info": {
   "codemirror_mode": {
    "name": "ipython",
    "version": 3
   },
   "file_extension": ".py",
   "mimetype": "text/x-python",
   "name": "python",
   "nbconvert_exporter": "python",
   "pygments_lexer": "ipython3",
   "version": "3.12.7"
  }
 },
 "nbformat": 4,
 "nbformat_minor": 5
}
